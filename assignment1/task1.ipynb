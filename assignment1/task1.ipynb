{
 "cells": [
  {
   "cell_type": "code",
   "execution_count": 2,
   "metadata": {},
   "outputs": [
    {
     "name": "stdout",
     "output_type": "stream",
     "text": [
      "[1, 2, 3, 4, 5]\n"
     ]
    }
   ],
   "source": [
    "#Insertion Sort O(n^2)\n",
    "\n",
    "def insertion_sort(n):\n",
    "    for j in range(1, len(n)):\n",
    "        key = n[j]\n",
    "        i = j - 1\n",
    "        while i >= 0 and n[i] > key:\n",
    "            n[i+1] = n[i]\n",
    "            i = i - 1\n",
    "        n[i + 1]  = key\n",
    "    return n\n",
    "\n",
    "nums = [5, 4, 3, 2, 1]\n",
    "print(insertion_sort(nums))"
   ]
  },
  {
   "cell_type": "code",
   "execution_count": null,
   "metadata": {},
   "outputs": [],
   "source": [
    "# Merge Sort\n",
    "\n",
    "def merge_sort(A, p, r):\n",
    "    if p < r:\n",
    "        q = (p + r)//2\n",
    "        merge_sort(A, p, q) # Left \n",
    "        merge_sort(A, q, q) # Left \n"
   ]
  },
  {
   "cell_type": "code",
   "execution_count": null,
   "metadata": {},
   "outputs": [],
   "source": [
    "# Quick Sort\n",
    "\n"
   ]
  }
 ],
 "metadata": {
  "kernelspec": {
   "display_name": "Python 3",
   "language": "python",
   "name": "python3"
  },
  "language_info": {
   "codemirror_mode": {
    "name": "ipython",
    "version": 3
   },
   "file_extension": ".py",
   "mimetype": "text/x-python",
   "name": "python",
   "nbconvert_exporter": "python",
   "pygments_lexer": "ipython3",
   "version": "3.10.12"
  }
 },
 "nbformat": 4,
 "nbformat_minor": 2
}
