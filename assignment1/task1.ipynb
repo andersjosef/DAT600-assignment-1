{
 "cells": [
  {
   "cell_type": "code",
   "execution_count": 2,
   "metadata": {},
   "outputs": [
    {
     "name": "stdout",
     "output_type": "stream",
     "text": [
      "[1, 2, 3, 4, 5]\n"
     ]
    }
   ],
   "source": [
    "#Insertion Sort O(n^2)\n",
    "\n",
    "def insertion_sort(n):\n",
    "    for j in range(1, len(n)):\n",
    "        key = n[j]\n",
    "        i = j - 1\n",
    "        while i >= 0 and n[i] > key:\n",
    "            n[i+1] = n[i]\n",
    "            i = i - 1\n",
    "        n[i + 1]  = key\n",
    "    return n\n",
    "\n",
    "nums = [5, 4, 3, 2, 1]\n",
    "print(insertion_sort(nums))"
   ]
  },
  {
   "cell_type": "code",
   "execution_count": 1,
   "metadata": {},
   "outputs": [
    {
     "name": "stdout",
     "output_type": "stream",
     "text": [
      "[1, 2, 3, 4, 5]\n"
     ]
    }
   ],
   "source": [
    "# Merge Sort\n",
    "def merge(A, p, q, r):\n",
    "\n",
    "    left = A[p:q+1]\n",
    "    right = A[q+1:r+1]\n",
    "\n",
    "    i = 0\n",
    "    j = 0\n",
    "    k = p\n",
    "\n",
    "    while i < len(left) and j < len(right):\n",
    "        if left[i] <= right[j]:\n",
    "            A[k] = left[i]\n",
    "            i += 1\n",
    "        else:\n",
    "            A[k] = right[j]\n",
    "            j += 1\n",
    "        k += 1\n",
    "    \n",
    "    while i < len(left):\n",
    "        A[k] = left[i]\n",
    "        i += 1\n",
    "        k += 1\n",
    "    while j < len(right):\n",
    "        A[k] = right[j]\n",
    "        j += 1\n",
    "        k += 1\n",
    "\n",
    "\n",
    "def merge_sort_internal(A, p, r):\n",
    "    if p >= r: # Zero or one element\n",
    "        return\n",
    "    q = (p + r)//2\n",
    "    merge_sort_internal(A, p, q) # Left \n",
    "    merge_sort_internal(A, q+1, r) # Right\n",
    "    merge(A, p, q, r)\n",
    "\n",
    "# Simpler calling without having to specify the range when calling\n",
    "def merge_sort(array):\n",
    "    merge_sort_internal(array, 0, len(array))\n",
    "\n",
    "nums = [5, 4, 3, 2, 1]\n",
    "merge_sort(nums)\n",
    "print(nums)\n"
   ]
  },
  {
   "cell_type": "code",
   "execution_count": null,
   "metadata": {},
   "outputs": [],
   "source": [
    "# Quick Sort\n",
    "\n"
   ]
  }
 ],
 "metadata": {
  "kernelspec": {
   "display_name": "Python 3",
   "language": "python",
   "name": "python3"
  },
  "language_info": {
   "codemirror_mode": {
    "name": "ipython",
    "version": 3
   },
   "file_extension": ".py",
   "mimetype": "text/x-python",
   "name": "python",
   "nbconvert_exporter": "python",
   "pygments_lexer": "ipython3",
   "version": "3.12.6"
  }
 },
 "nbformat": 4,
 "nbformat_minor": 2
}
