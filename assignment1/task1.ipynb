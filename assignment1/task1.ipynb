{
 "cells": [
  {
   "cell_type": "code",
   "execution_count": 18,
   "metadata": {},
   "outputs": [
    {
     "name": "stdout",
     "output_type": "stream",
     "text": [
      "[1, 2, 3, 4, 5]\n"
     ]
    }
   ],
   "source": [
    "#Insertion Sort\n",
    "\n",
    "def insertion_sort(n):\n",
    "    for j in range(1, len(n)):\n",
    "        key = n[j]\n",
    "        i = j - 1\n",
    "        while i >= 0 and n[i] > key:\n",
    "            n[i+1] = n[i]\n",
    "            i = i - 1\n",
    "        n[i + 1]  = key\n",
    "    return n\n",
    "\n",
    "nums = [5, 4, 3, 2, 1]\n",
    "insertion_sort(nums)\n",
    "print(nums)"
   ]
  },
  {
   "cell_type": "code",
   "execution_count": 19,
   "metadata": {},
   "outputs": [
    {
     "name": "stdout",
     "output_type": "stream",
     "text": [
      "[1, 2, 3, 4, 5]\n"
     ]
    }
   ],
   "source": [
    "# Merge Sort\n",
    "def merge(A, p, q, r):\n",
    "\n",
    "    left = A[p:q+1]\n",
    "    right = A[q+1:r+1]\n",
    "\n",
    "    i = 0\n",
    "    j = 0\n",
    "    k = p\n",
    "\n",
    "    while i < len(left) and j < len(right):\n",
    "        if left[i] <= right[j]:\n",
    "            A[k] = left[i]\n",
    "            i += 1\n",
    "        else:\n",
    "            A[k] = right[j]\n",
    "            j += 1\n",
    "        k += 1\n",
    "    \n",
    "    while i < len(left):\n",
    "        A[k] = left[i]\n",
    "        i += 1\n",
    "        k += 1\n",
    "    while j < len(right):\n",
    "        A[k] = right[j]\n",
    "        j += 1\n",
    "        k += 1\n",
    "\n",
    "\n",
    "def merge_sort_internal(A, p, r):\n",
    "    if p >= r: # Zero or one element\n",
    "        return\n",
    "    q = (p + r)//2\n",
    "    merge_sort_internal(A, p, q) # Left \n",
    "    merge_sort_internal(A, q+1, r) # Right\n",
    "    merge(A, p, q, r)\n",
    "\n",
    "# Simpler calling without having to specify the range when calling\n",
    "def merge_sort(array):\n",
    "    merge_sort_internal(array, 0, len(array))\n",
    "\n",
    "nums = [5, 4, 3, 2, 1]\n",
    "merge_sort(nums)\n",
    "print(nums)\n"
   ]
  },
  {
   "cell_type": "code",
   "execution_count": 33,
   "metadata": {},
   "outputs": [
    {
     "name": "stdout",
     "output_type": "stream",
     "text": [
      "[2, 1, 3, 4, 5]\n"
     ]
    }
   ],
   "source": [
    "# Heap sort\n",
    "\n",
    "class Heap:\n",
    "    def __init__(self, array):\n",
    "        self.array = array\n",
    "        self.heap_size = len(array)\n",
    "\n",
    "def left(i):\n",
    "    return i*2+1\n",
    "\n",
    "def right(i):\n",
    "    return i*2+2\n",
    "\n",
    "def parent(i):\n",
    "    return i//2\n",
    "\n",
    "\n",
    "def max_heapify(A:Heap, i):\n",
    "    l = left(i)\n",
    "    r = right(i)\n",
    "    if l <= A.heap_size and A.array[r] > A.array[i]:\n",
    "        largest = l\n",
    "    else:\n",
    "        largest = i\n",
    "    \n",
    "    if r <= A.heap_size and A.array[r] > A.array[largest]:\n",
    "        largest = r\n",
    "    \n",
    "    if largest != i:\n",
    "        A.array[i], A.array[largest] = A.array[largest], A.array[i]\n",
    "        max_heapify(A, largest)\n",
    "\n",
    "\n",
    "\n",
    "def build_max_heap(A:Heap, n):\n",
    "    A.heap_size = n\n",
    "    for i in range(n//2, 1, -1):\n",
    "        max_heapify(A, i)\n",
    "\n",
    "def heap_sort(A:Heap, n):\n",
    "    build_max_heap(A, n)\n",
    "    for i in range(n, 0, -1): # Step range go backwards from n-1 to but not including 0\n",
    "        A.array[0], A.array[i] = A.array[i], A.array[0] # Change first index with i\n",
    "        A.heap_size -= 1\n",
    "        max_heapify(A, 0)\n",
    "    \n",
    "\n",
    "nums = Heap([5, 4, 3, 2, 1])\n",
    "heap_sort(nums, len(nums.array)-1)\n",
    "print(nums.array)"
   ]
  },
  {
   "cell_type": "code",
   "execution_count": 30,
   "metadata": {},
   "outputs": [
    {
     "name": "stdout",
     "output_type": "stream",
     "text": [
      "[1, 2, 3, 4, 5]\n"
     ]
    }
   ],
   "source": [
    "# Quick Sort\n",
    "\n",
    "def partition(A, p, r):\n",
    "    x = A[r]\n",
    "    i = p - 1\n",
    "\n",
    "    for j in range(p, r):\n",
    "        if A[j] <= x:\n",
    "            i += 1\n",
    "            A[i], A[j] = A[j], A[i]\n",
    "    A[i+1], A[r] = A[r], A[i+1]\n",
    "    return i + 1\n",
    "\n",
    "\n",
    "def quick_sort_internal(A, p, r):\n",
    "    if p < r:\n",
    "        q = partition(A, p, r)\n",
    "        quick_sort_internal(A, p, q-1) # recursive low side\n",
    "        quick_sort_internal(A, q+1, r) # recursive high side\n",
    "\n",
    "# For easier usage\n",
    "def quick_sort(array):\n",
    "    quick_sort_internal(array, 0, len(array)-1)\n",
    "\n",
    "nums = [5, 4, 3, 2, 1]\n",
    "quick_sort(nums)\n",
    "print(nums)\n"
   ]
  },
  {
   "cell_type": "code",
   "execution_count": 21,
   "metadata": {},
   "outputs": [
    {
     "name": "stdout",
     "output_type": "stream",
     "text": [
      "10\n",
      "9\n",
      "8\n",
      "7\n",
      "6\n",
      "5\n",
      "4\n",
      "3\n",
      "2\n",
      "1\n"
     ]
    }
   ],
   "source": [
    "for i in range(10, 0, -1):\n",
    "    print(i)"
   ]
  },
  {
   "cell_type": "code",
   "execution_count": null,
   "metadata": {},
   "outputs": [],
   "source": []
  }
 ],
 "metadata": {
  "kernelspec": {
   "display_name": "Python 3",
   "language": "python",
   "name": "python3"
  },
  "language_info": {
   "codemirror_mode": {
    "name": "ipython",
    "version": 3
   },
   "file_extension": ".py",
   "mimetype": "text/x-python",
   "name": "python",
   "nbconvert_exporter": "python",
   "pygments_lexer": "ipython3",
   "version": "3.13.1"
  }
 },
 "nbformat": 4,
 "nbformat_minor": 2
}
